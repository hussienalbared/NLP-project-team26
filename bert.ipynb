{
 "cells": [
  {
   "cell_type": "markdown",
   "metadata": {},
   "source": [
    "Import libraries"
   ]
  },
  {
   "cell_type": "code",
   "execution_count": 4,
   "metadata": {},
   "outputs": [
    {
     "name": "stderr",
     "output_type": "stream",
     "text": [
      "/home/user/albaredh0/miniconda3/envs/myenv/lib/python3.11/site-packages/tqdm/auto.py:21: TqdmWarning: IProgress not found. Please update jupyter and ipywidgets. See https://ipywidgets.readthedocs.io/en/stable/user_install.html\n",
      "  from .autonotebook import tqdm as notebook_tqdm\n"
     ]
    }
   ],
   "source": [
    "# !pip install numpy requests nlpaug\n",
    "# !pip install tensformers\n",
    "# !pip install evaluate\n",
    "# !pip install tensorboard\n",
    "# !pip install accelerate -U\n",
    "# !pip uninstall pillow\n",
    "# !pip install pillow==9.4.0\n",
    "import pandas as pd\n",
    "import numpy as np\n",
    "\n",
    "import torch\n",
    "\n",
    "from sklearn.model_selection import train_test_split\n",
    "\n",
    "from transformers import  TrainingArguments, Trainer\n",
    "from transformers import BertTokenizer,BertForSequenceClassification\n",
    "\n",
    "from transformers import BertForSequenceClassification\n",
    "\n",
    "import json\n",
    "\n",
    "import matplotlib.pyplot as plt\n",
    "import numpy as np\n",
    "import pandas as pd\n",
    "from sklearn.model_selection import train_test_split\n",
    "from sklearn.metrics import accuracy_score, recall_score, precision_score, f1_score\n",
    "import torch\n",
    "from transformers import TrainingArguments, Trainer\n",
    "from transformers import BertTokenizer, BertForSequenceClassification\n",
    "\n",
    "import gc"
   ]
  },
  {
   "cell_type": "code",
   "execution_count": 8,
   "metadata": {},
   "outputs": [
    {
     "data": {
      "text/plain": [
       "'cuda'"
      ]
     },
     "execution_count": 8,
     "metadata": {},
     "output_type": "execute_result"
    }
   ],
   "source": [
    "torch.__version__\n",
    "device = \"cuda\" if torch.cuda.is_available() else \"cpu\"\n",
    "device"
   ]
  },
  {
   "cell_type": "code",
   "execution_count": 9,
   "metadata": {},
   "outputs": [
    {
     "data": {
      "text/plain": [
       "3717"
      ]
     },
     "execution_count": 9,
     "metadata": {},
     "output_type": "execute_result"
    }
   ],
   "source": [
    "\n",
    "torch.cuda.empty_cache()\n",
    "gc.collect()"
   ]
  },
  {
   "attachments": {},
   "cell_type": "markdown",
   "metadata": {},
   "source": [
    "#### Data"
   ]
  },
  {
   "cell_type": "code",
   "execution_count": 40,
   "metadata": {},
   "outputs": [],
   "source": [
    "MAX_SENTENCE_LENGTH=150\n",
    "data_url='../train-balanced-sarcasm.csv'\n",
    "#The model started overfitting in the mid of the second epoch so we make an early stopping\n",
    "epochs=1"
   ]
  },
  {
   "cell_type": "code",
   "execution_count": 11,
   "metadata": {},
   "outputs": [],
   "source": [
    "# read the dataset\n",
    "df=pd.read_csv(data_url)"
   ]
  },
  {
   "cell_type": "code",
   "execution_count": 15,
   "metadata": {},
   "outputs": [],
   "source": [
    "def get_comment_lengths(df, max_sentence_length):\n",
    "    \"\"\"\n",
    "    Filter comments based on their lengths and extract corresponding labels.\n",
    "\n",
    "    Parameters:\n",
    "        df (pd.DataFrame): The DataFrame containing the 'comment' and 'label' columns.\n",
    "        max_sentence_length (int): The maximum allowed length for a comment.\n",
    "\n",
    "    Returns:\n",
    "        tuple: A tuple containing two lists - labels and comments.\n",
    "\n",
    "    This function takes a DataFrame (`df`) containing 'comment' and 'label' columns and filters the comments\n",
    "    based on their lengths, keeping only those with lengths less than the specified 'max_sentence_length'.\n",
    "    The function also extracts the corresponding labels for the filtered comments.\n",
    "    The resulting 'labels' and 'comments' are returned as a tuple.\n",
    "\n",
    "    \"\"\"\n",
    "\n",
    "    # Calculate the length of each comment and store it in a new 'lengths' column in the DataFrame.\n",
    "    df[\"lengths\"] = df[\"comment\"].astype(str).apply(len)\n",
    "\n",
    "    # Filter the DataFrame to keep only the rows where the comment length is less than 'max_sentence_length'.\n",
    "    filtered_rows = df[df[\"lengths\"] < max_sentence_length]\n",
    "\n",
    "    # Extract the labels for the filtered comments and convert them to a list.\n",
    "    labels = filtered_rows[\"label\"].tolist()\n",
    "\n",
    "    # Extract the filtered comments and convert them to a list of strings.\n",
    "    comments = filtered_rows[\"comment\"].astype(str).tolist()\n",
    "\n",
    "    # Return the labels and comments as a tuple.\n",
    "    return labels, comments\n",
    "\n",
    "# Usage of the function\n",
    "labels, comments = get_comment_lengths(df, MAX_SENTENCE_LENGTH)\n"
   ]
  },
  {
   "attachments": {},
   "cell_type": "markdown",
   "metadata": {},
   "source": [
    "#### Model"
   ]
  },
  {
   "cell_type": "code",
   "execution_count": 13,
   "metadata": {},
   "outputs": [
    {
     "name": "stderr",
     "output_type": "stream",
     "text": [
      "Some weights of the model checkpoint at bert-base-uncased were not used when initializing BertForSequenceClassification: ['cls.predictions.transform.LayerNorm.weight', 'cls.seq_relationship.bias', 'cls.predictions.transform.dense.weight', 'cls.predictions.transform.LayerNorm.bias', 'cls.predictions.transform.dense.bias', 'cls.seq_relationship.weight', 'cls.predictions.bias']\n",
      "- This IS expected if you are initializing BertForSequenceClassification from the checkpoint of a model trained on another task or with another architecture (e.g. initializing a BertForSequenceClassification model from a BertForPreTraining model).\n",
      "- This IS NOT expected if you are initializing BertForSequenceClassification from the checkpoint of a model that you expect to be exactly identical (initializing a BertForSequenceClassification model from a BertForSequenceClassification model).\n",
      "Some weights of BertForSequenceClassification were not initialized from the model checkpoint at bert-base-uncased and are newly initialized: ['classifier.bias', 'classifier.weight']\n",
      "You should probably TRAIN this model on a down-stream task to be able to use it for predictions and inference.\n"
     ]
    }
   ],
   "source": [
    "\n",
    "# Set the name of the pre-trained BERT model to be used.\n",
    "model_name = \"bert-base-uncased\"\n",
    "\n",
    "# Create a tokenizer for the selected BERT model.\n",
    "# The tokenizer is responsible for converting text inputs into tokenized encodings that the model can process.\n",
    "tokenizer = BertTokenizer.from_pretrained(model_name)\n",
    "\n",
    "# Create an instance of the pre-trained BERT model for sequence classification.\n",
    "# The `BertForSequenceClassification` class is designed for text classification tasks,\n",
    "# where the input is a sequence of tokens, and the output is a class prediction.\n",
    "# In this case, we are using a binary classification model (num_labels=2) which predicts one of two classes.\n",
    "model = BertForSequenceClassification.from_pretrained(model_name, num_labels=2)\n"
   ]
  },
  {
   "cell_type": "code",
   "execution_count": 14,
   "metadata": {},
   "outputs": [],
   "source": [
    "# ----- 1. Preprocess data -----#\n",
    "# Preprocess data\n",
    "# Convert the 'comments' and 'labels' lists to separate variables 'X' and 'y'.\n",
    "X = list(comments)\n",
    "y = list(labels)\n",
    "\n",
    "# Split the data into training and validation sets using train_test_split.\n",
    "# The test_size parameter specifies the proportion of the data to be used for validation (in this case, 30%).\n",
    "X_train, X_val, y_train, y_val = train_test_split(X, y, test_size=0.3)\n",
    "\n",
    "# Tokenize the training data (X_train) and validation data (X_val) using the 'tokenizer'.\n",
    "# The tokenizer converts the text inputs into tokenized encodings with padding and truncation.\n",
    "# The maximum sequence length is set to 512, which is the maximum allowed by the BERT model.\n",
    "X_train_tokenized = tokenizer(X_train, padding=True, truncation=True, max_length=512)\n",
    "X_val_tokenized = tokenizer(X_val, padding=True, truncation=True, max_length=512)\n"
   ]
  },
  {
   "cell_type": "code",
   "execution_count": null,
   "metadata": {},
   "outputs": [],
   "source": [
    "# Create torch dataset\n",
    "class Dataset(torch.utils.data.Dataset):\n",
    "    \"\"\"\n",
    "    Custom PyTorch Dataset class for working with tokenized encodings and labels.\n",
    "\n",
    "    Parameters:\n",
    "        encodings (dict): A dictionary containing the tokenized encodings of the dataset.\n",
    "                          The dictionary should have keys like 'input_ids', 'attention_mask', etc.,\n",
    "                          and each key should have a list of torch tensors as its values.\n",
    "        labels (list or None): Optional. A list containing the labels corresponding to each sample in the dataset.\n",
    "                               If provided, the dataset will return labels along with the tokenized encodings.\n",
    "\n",
    "    This class allows you to work with tokenized encodings and labels as a PyTorch Dataset.\n",
    "    It takes the tokenized encodings as input and optionally the corresponding labels.\n",
    "    The tokenized encodings are usually obtained from a tokenizer provided by the Hugging Face transformers library.\n",
    "\n",
    "    Methods:\n",
    "        __getitem__(self, idx): Returns a bacth from the dataset at the given index.\n",
    "                                The sample is returned as a dictionary containing the tokenized encodings and labels (if available).\n",
    "        __len__(self): Returns the total number of samples in the dataset.\n",
    "\n",
    "\n",
    "    \"\"\"\n",
    "    def __init__(self, encodings, labels=None):\n",
    "        self.encodings = encodings\n",
    "        self.labels = labels\n",
    "\n",
    "    def __getitem__(self, idx):\n",
    "        item = {key: torch.tensor(val[idx]) for key, val in self.encodings.items()}\n",
    "        if self.labels:\n",
    "            item[\"labels\"] = torch.tensor(self.labels[idx])\n",
    "        return item\n",
    "\n",
    "    def __len__(self):\n",
    "        return len(self.encodings[\"input_ids\"])\n",
    "\n",
    "\n"
   ]
  },
  {
   "cell_type": "code",
   "execution_count": null,
   "metadata": {},
   "outputs": [],
   "source": [
    "# Create the training dataset using the 'Dataset' class with the tokenized training data (X_train_tokenized) and labels (y_train).\n",
    "train_dataset = Dataset(X_train_tokenized, y_train)\n",
    "\n",
    "# Create the validation dataset using the 'Dataset' class with the tokenized validation data (X_val_tokenized) and labels (y_val).\n",
    "val_dataset = Dataset(X_val_tokenized, y_val)\n"
   ]
  },
  {
   "attachments": {},
   "cell_type": "markdown",
   "metadata": {},
   "source": [
    "#### Training"
   ]
  },
  {
   "cell_type": "code",
   "execution_count": null,
   "metadata": {},
   "outputs": [],
   "source": [
    "# define evaluation metrics\n",
    "def compute_metrics(p):\n",
    "    \"\"\"\n",
    "    Compute evaluation metrics for a binary-class classification problem.\n",
    "\n",
    "    Parameters:\n",
    "        p (tuple): A tuple containing the predictions and the true labels.\n",
    "                   The predictions should be in the form of a 2D numpy array with shape (num_samples, num_classes),\n",
    "                   where each row represents the predicted probabilities for each class.\n",
    "                   The true labels should be a 1D numpy array of shape (num_samples,) or a list containing the ground truth labels.\n",
    "\n",
    "    Returns:\n",
    "        dict: A dictionary containing the computed evaluation metrics.\n",
    "              The dictionary has the following keys: 'accuracy', 'precision', 'recall', 'f1'.\n",
    "\n",
    "    This function calculates the accuracy, precision, recall, and F1-score for a binary-class classification problem.\n",
    "    It takes in the predicted probabilities and the true labels as inputs.\n",
    "    The predicted probabilities are converted to class labels using argmax to get the most probable class for each sample.\n",
    "\n",
    "\n",
    "    \"\"\"\n",
    "    pred, labels = p\n",
    "    pred = np.argmax(pred, axis=1)\n",
    "\n",
    "    accuracy = accuracy_score(y_true=labels, y_pred=pred)\n",
    "    recall = recall_score(y_true=labels, y_pred=pred)\n",
    "    precision = precision_score(y_true=labels, y_pred=pred)\n",
    "    f1 = f1_score(y_true=labels, y_pred=pred)\n",
    "\n",
    "    return {\"accuracy\": accuracy, \"precision\": precision, \"recall\": recall, \"f1\": f1}"
   ]
  },
  {
   "cell_type": "code",
   "execution_count": null,
   "metadata": {},
   "outputs": [],
   "source": [
    "# Train model function\n",
    "def train_model(model,train_dataset,val_dataset, epochs=epochs):\n",
    "      \"\"\"\n",
    "    Function to train a pre-trained model on the provided training dataset.\n",
    "\n",
    "    Parameters:\n",
    "        model (transformers.PreTrainedModel): The pre-trained model to be trained.\n",
    "        train_dataset (torch.utils.data.Dataset): The training dataset.\n",
    "        val_dataset (torch.utils.data.Dataset): The validation dataset.\n",
    "        epochs (int, optional): The number of training epochs. Default is 3.\n",
    "\n",
    "    Returns:\n",
    "        None\n",
    "        \"\"\"\n",
    "    args = TrainingArguments(\n",
    "    output_dir=\"output\",\n",
    "    evaluation_strategy=\"steps\",\n",
    "    eval_steps=500,\n",
    "    per_device_train_batch_size=512,\n",
    "    per_device_eval_batch_size=256,\n",
    "    num_train_epochs=epochs,\n",
    "    seed=0,\n",
    "    load_best_model_at_end=True,\n",
    ")\n",
    "    trainer = Trainer(\n",
    "    model=model,\n",
    "    args=args,\n",
    "    train_dataset=train_dataset,\n",
    "    eval_dataset=val_dataset,\n",
    "    compute_metrics=compute_metrics,\n",
    ")\n",
    "\n",
    "# Train pre-trained model\n",
    "    trainer.train()\n",
    "    "
   ]
  },
  {
   "cell_type": "code",
   "execution_count": null,
   "metadata": {},
   "outputs": [],
   "source": [
    "train_model(train_dataset=train_dataset,model=model,val_dataset=val_dataset)"
   ]
  },
  {
   "attachments": {},
   "cell_type": "markdown",
   "metadata": {},
   "source": [
    "### Plot"
   ]
  },
  {
   "cell_type": "code",
   "execution_count": 16,
   "metadata": {},
   "outputs": [],
   "source": [
    "\n",
    "\n",
    "def plot_loss(trainer_state_path, window_size=3):\n",
    "    \"\"\"\n",
    "    Plot training and validation loss from the trainer state.\n",
    "\n",
    "    Parameters:\n",
    "        trainer_state_path (str): Path to the JSON file containing the trainer state.\n",
    "        window_size (int, optional): Size of the moving average window for smoothing the loss curves. Default is 3.\n",
    "\n",
    "    Returns:\n",
    "        None\n",
    "\n",
    "    This function loads the trainer state from the specified JSON file, extracts the training and validation loss\n",
    "    from the log history, and plots the smoothed loss curves using the specified window_size for moving average smoothing.\n",
    "\n",
    "    \"\"\"\n",
    "\n",
    "    # Load the trainer state from the JSON file\n",
    "    with open(trainer_state_path) as f:\n",
    "        data = json.load(f)\n",
    "\n",
    "    # Extract training and validation loss from the log history\n",
    "    history = data[\"log_history\"]\n",
    "    train_loss = [entry[\"loss\"] for i, entry in enumerate(history) if i % 2 == 0]\n",
    "    val_loss = [entry[\"eval_loss\"] for i, entry in enumerate(history) if i % 2 != 0]\n",
    "\n",
    "    # Smooth the loss curves using moving average\n",
    "    train_loss_smooth = np.convolve(train_loss, np.ones(window_size) / window_size, mode='valid')\n",
    "    val_loss_smooth = np.convolve(val_loss, np.ones(window_size) / window_size, mode='valid')\n",
    "\n",
    "    # Create the steps range for plotting\n",
    "    steps = range(window_size, window_size + len(train_loss_smooth))\n",
    "\n",
    "    # Plot the smoothed loss curves\n",
    "    plt.plot(steps, train_loss_smooth, 'b', label='Training Loss')\n",
    "    plt.plot(steps, val_loss_smooth, 'r', label='Validation Loss')\n",
    "\n",
    "    # Set plot title and labels\n",
    "    plt.title('Training and Validation Loss')\n",
    "    plt.xlabel('Steps')\n",
    "    plt.ylabel('Loss')\n",
    "\n",
    "    # Display the legend\n",
    "    plt.legend()\n",
    "\n",
    "    # Show the plot\n",
    "    plt.show()\n"
   ]
  },
  {
   "cell_type": "code",
   "execution_count": 48,
   "metadata": {},
   "outputs": [
    {
     "data": {
      "image/png": "[encoded data removed]",
      "text/plain": [
       "<Figure size 640x480 with 1 Axes>"
      ]
     },
     "metadata": {},
     "output_type": "display_data"
    }
   ],
   "source": [
    "plot_loss(trainer_state_path='output/checkpoint-10000/trainer_state.json')"
   ]
  },
  {
   "cell_type": "code",
   "execution_count": 38,
   "metadata": {},
   "outputs": [],
   "source": [
    "import json\n",
    "import numpy as np\n",
    "import matplotlib.pyplot as plt\n",
    "\n",
    "def plot_accuracy(trainer_state_path, window_size=3):\n",
    "    \"\"\"\n",
    "    Plot evaluation accuracy and F1 score from the trainer state.\n",
    "\n",
    "    Parameters:\n",
    "        trainer_state_path (str): Path to the JSON file containing the trainer state.\n",
    "        window_size (int, optional): Size of the moving average window for smoothing the accuracy and F1 score curves. Default is 3.\n",
    "\n",
    "    Returns:\n",
    "        None\n",
    "\n",
    "    This function loads the trainer state from the specified JSON file, extracts the evaluation accuracy and F1 score\n",
    "    from the log history, and plots the smoothed curves using the specified window_size for moving average smoothing.\n",
    "\n",
    "    Note: Make sure to have the 'matplotlib' library installed to visualize the plot.\n",
    "    \"\"\"\n",
    "\n",
    "    # Load the trainer state from the JSON file\n",
    "    with open(trainer_state_path) as f:\n",
    "        data = json.load(f)\n",
    "\n",
    "    # Extract evaluation accuracy and F1 score from the log history\n",
    "    history = data[\"log_history\"]\n",
    "    accuracy_score = [entry[\"eval_accuracy\"] for i, entry in enumerate(history) if i % 2 != 0]\n",
    "    eval_f1_score = [entry[\"eval_f1\"] for i, entry in enumerate(history) if i % 2 != 0]\n",
    "\n",
    "\n",
    "    # Smooth the accuracy and F1 score curves using moving average\n",
    "    accuracy_score_smooth = np.convolve(accuracy_score, np.ones(window_size) / window_size, mode='valid')\n",
    "    val_f1_score_smooth = np.convolve(eval_f1_score, np.ones(window_size) / window_size, mode='valid')\n",
    "\n",
    "\n",
    "    # Create the steps range for plotting\n",
    "    steps = range(window_size, window_size + len(accuracy_score_smooth))\n",
    "\n",
    "    # Plot the smoothed accuracy and F1 score curves\n",
    "    plt.plot(steps, accuracy_score_smooth, 'b', label='Smoothed eval accuracy')\n",
    "    plt.plot(steps, val_f1_score_smooth, 'r', label='Smoothed eval F1 score')\n",
    "\n",
    "\n",
    "    # Set plot title, labels, and legend\n",
    "    plt.title('Bert Smoothed Accuracy and F1 score')\n",
    "    plt.xlabel('Steps')\n",
    "    plt.legend()\n",
    "\n",
    "    # Show the plot\n",
    "    plt.show()\n"
   ]
  },
  {
   "cell_type": "code",
   "execution_count": 39,
   "metadata": {},
   "outputs": [
    {
     "data": {
      "image/png": "[encoded data removed]",
      "text/plain": [
       "<Figure size 640x480 with 1 Axes>"
      ]
     },
     "metadata": {},
     "output_type": "display_data"
    }
   ],
   "source": [
    "plot_accuracy(trainer_state_path=\"output/checkpoint-10000/trainer_state.json\")"
   ]
  }
 ],
 "metadata": {
  "kernelspec": {
   "display_name": "test2",
   "language": "python",
   "name": "test2"
  },
  "language_info": {
   "codemirror_mode": {
    "name": "ipython",
    "version": 3
   },
   "file_extension": ".py",
   "mimetype": "text/x-python",
   "name": "python",
   "nbconvert_exporter": "python",
   "pygments_lexer": "ipython3",
   "version": "3.11.3"
  }
 },
 "nbformat": 4,
 "nbformat_minor": 2
}
